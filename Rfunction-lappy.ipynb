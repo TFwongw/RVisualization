{
 "cells": [
  {
   "cell_type": "code",
   "execution_count": 1,
   "id": "2a3dec0b",
   "metadata": {},
   "outputs": [],
   "source": [
    "# function in list"
   ]
  },
  {
   "cell_type": "code",
   "execution_count": null,
   "id": "7201701a",
   "metadata": {},
   "outputs": [],
   "source": [
    "summary <- function(x) {\n",
    "  funs <- c(mean, median, sd, mad, IQR)\n",
    "  lapply(funs, function(f) f(x, na.rm = TRUE))\n",
    "}"
   ]
  },
  {
   "cell_type": "code",
   "execution_count": null,
   "id": "3db3c4de",
   "metadata": {},
   "outputs": [],
   "source": [
    "Anonymous functions"
   ]
  },
  {
   "cell_type": "code",
   "execution_count": null,
   "id": "f50ea0e9",
   "metadata": {},
   "outputs": [],
   "source": [
    "lapply(mtcars, function(x) length(unique(x)))\n",
    "Filter(function(x) !is.numeric(x), mtcars)\n",
    "integrate(function(x) sin(x) ^ 2, 0, pi)"
   ]
  },
  {
   "cell_type": "code",
   "execution_count": null,
   "id": "eed10384",
   "metadata": {},
   "outputs": [],
   "source": [
    "(function(x) x + 3)(10) # 13"
   ]
  }
 ],
 "metadata": {
  "kernelspec": {
   "display_name": "R 4.3.0",
   "language": "R",
   "name": "ir43"
  },
  "language_info": {
   "codemirror_mode": "r",
   "file_extension": ".r",
   "mimetype": "text/x-r-source",
   "name": "R",
   "pygments_lexer": "r",
   "version": "4.3.0"
  },
  "toc": {
   "base_numbering": 1,
   "nav_menu": {},
   "number_sections": true,
   "sideBar": true,
   "skip_h1_title": false,
   "title_cell": "Table of Contents",
   "title_sidebar": "Contents",
   "toc_cell": false,
   "toc_position": {},
   "toc_section_display": true,
   "toc_window_display": false
  },
  "varInspector": {
   "cols": {
    "lenName": 16,
    "lenType": 16,
    "lenVar": 40
   },
   "kernels_config": {
    "python": {
     "delete_cmd_postfix": "",
     "delete_cmd_prefix": "del ",
     "library": "var_list.py",
     "varRefreshCmd": "print(var_dic_list())"
    },
    "r": {
     "delete_cmd_postfix": ") ",
     "delete_cmd_prefix": "rm(",
     "library": "var_list.r",
     "varRefreshCmd": "cat(var_dic_list()) "
    }
   },
   "types_to_exclude": [
    "module",
    "function",
    "builtin_function_or_method",
    "instance",
    "_Feature"
   ],
   "window_display": false
  }
 },
 "nbformat": 4,
 "nbformat_minor": 5
}
